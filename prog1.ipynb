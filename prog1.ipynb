{
  "nbformat": 4,
  "nbformat_minor": 0,
  "metadata": {
    "colab": {
      "provenance": [],
      "authorship_tag": "ABX9TyPN1PBWTxFJYjpfmmumGY0z",
      "include_colab_link": true
    },
    "kernelspec": {
      "name": "python3",
      "display_name": "Python 3"
    },
    "language_info": {
      "name": "python"
    }
  },
  "cells": [
    {
      "cell_type": "markdown",
      "metadata": {
        "id": "view-in-github",
        "colab_type": "text"
      },
      "source": [
        "<a href=\"https://colab.research.google.com/github/joaoguilhermecosta/python/blob/main/prog1.ipynb\" target=\"_parent\"><img src=\"https://colab.research.google.com/assets/colab-badge.svg\" alt=\"Open In Colab\"/></a>"
      ]
    },
    {
      "cell_type": "code",
      "execution_count": 2,
      "metadata": {
        "id": "TbcDSnT2-9Jo"
      },
      "outputs": [],
      "source": [
        "# Primeiro Código com a Linguagem Python.\n",
        "# Autor: joão guilherme costa lima 22/01/2024"
      ]
    },
    {
      "cell_type": "code",
      "source": [
        "num1 = 10\n",
        "num2 = 5\n",
        "soma= num1+num2\n",
        "print(\"a soma dos numeros é\",soma)"
      ],
      "metadata": {
        "colab": {
          "base_uri": "https://localhost:8080/"
        },
        "id": "PIJ7y07X_ipi",
        "outputId": "d6cc9a38-2bc3-4a9f-c04f-0ecaf1a901b3"
      },
      "execution_count": 3,
      "outputs": [
        {
          "output_type": "stream",
          "name": "stdout",
          "text": [
            "a soma dos numeros é 15\n"
          ]
        }
      ]
    },
    {
      "cell_type": "code",
      "source": [
        "n1 = int(input(\"Digite o número 1\"))\n",
        "n2 = int(input(\"Digite o numero 2\"))\n",
        "dobro = float(input(\"digite o dobro do número:\"))\n",
        "soma = n1+ n2\n",
        "print(\" a soma dos numeros é\", soma)"
      ],
      "metadata": {
        "colab": {
          "base_uri": "https://localhost:8080/"
        },
        "id": "vQxq6gEC__Oe",
        "outputId": "971c888f-4efd-49dd-e04c-2991c256069b"
      },
      "execution_count": 6,
      "outputs": [
        {
          "output_type": "stream",
          "name": "stdout",
          "text": [
            "Digite o número 185\n",
            "Digite o numero 210\n",
            " a soma dos numeros é 95\n"
          ]
        }
      ]
    },
    {
      "cell_type": "code",
      "source": [
        "nomealuno = input(\"digite o nome completo:\")\n",
        "Nota1 = float(input(\"digite a primeira Nota:\"))\n",
        "Nota2 = float(input(\"digite a segunda Nota:\"))\n",
        "Media = (Nota1 + Nota2) / 2\n",
        "if (Media >= 7):\n",
        "  resp = \"Aprovado\"\n",
        "else:\n",
        "  resp = \"Recuperação\"\n",
        "\n",
        "print(\"Nome do Aluno: \", nomealuno)\n",
        "print(\"a nota do aluno é \", Nota1)\n",
        "print(\"a media do aluno é\", Media)\n",
        "print(\"a situação do aluno é\", resp)"
      ],
      "metadata": {
        "colab": {
          "base_uri": "https://localhost:8080/"
        },
        "id": "BwtKx58hAq5v",
        "outputId": "9e021d95-8484-4710-b2dc-e712ab6a36d9"
      },
      "execution_count": 9,
      "outputs": [
        {
          "output_type": "stream",
          "name": "stdout",
          "text": [
            "digite o nome completo:artur\n",
            "digite a primeira Nota:2\n",
            "digite a segunda Nota:8.4\n",
            "Nome do Aluno:  artur\n",
            "a nota do aluno é  2.0\n",
            "a media do aluno é 5.2\n",
            "a situação do aluno é Recuperação\n"
          ]
        }
      ]
    }
  ]
}