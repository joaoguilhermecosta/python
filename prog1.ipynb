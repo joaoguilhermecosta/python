{
  "nbformat": 4,
  "nbformat_minor": 0,
  "metadata": {
    "colab": {
      "provenance": [],
      "authorship_tag": "ABX9TyM3nacxh8A76rpef4EiecQz",
      "include_colab_link": true
    },
    "kernelspec": {
      "name": "python3",
      "display_name": "Python 3"
    },
    "language_info": {
      "name": "python"
    }
  },
  "cells": [
    {
      "cell_type": "markdown",
      "metadata": {
        "id": "view-in-github",
        "colab_type": "text"
      },
      "source": [
        "<a href=\"https://colab.research.google.com/github/joaoguilhermecosta/python/blob/main/prog1.ipynb\" target=\"_parent\"><img src=\"https://colab.research.google.com/assets/colab-badge.svg\" alt=\"Open In Colab\"/></a>"
      ]
    },
    {
      "cell_type": "code",
      "execution_count": 2,
      "metadata": {
        "id": "TbcDSnT2-9Jo"
      },
      "outputs": [],
      "source": [
        "# Primeiro Código com a Linguagem Python.\n",
        "# Autor: joão guilherme costa lima 22/01/2024"
      ]
    },
    {
      "cell_type": "code",
      "source": [
        "num1 = 10\n",
        "num2 = 5\n",
        "soma= num1+num2\n",
        "print(\"a soma dos numeros é\",soma)"
      ],
      "metadata": {
        "colab": {
          "base_uri": "https://localhost:8080/"
        },
        "id": "PIJ7y07X_ipi",
        "outputId": "d6cc9a38-2bc3-4a9f-c04f-0ecaf1a901b3"
      },
      "execution_count": 3,
      "outputs": [
        {
          "output_type": "stream",
          "name": "stdout",
          "text": [
            "a soma dos numeros é 15\n"
          ]
        }
      ]
    },
    {
      "cell_type": "code",
      "source": [
        "n1 = int(input(\"Digite o número 1\"))\n",
        "n2 = int(input(\"Digite o numero 2\"))\n",
        "soma = n1+ n2\n",
        "print(\" a soma dos numeros é\", soma)"
      ],
      "metadata": {
        "colab": {
          "base_uri": "https://localhost:8080/"
        },
        "id": "vQxq6gEC__Oe",
        "outputId": "971c888f-4efd-49dd-e04c-2991c256069b"
      },
      "execution_count": 6,
      "outputs": [
        {
          "output_type": "stream",
          "name": "stdout",
          "text": [
            "Digite o número 185\n",
            "Digite o numero 210\n",
            " a soma dos numeros é 95\n"
          ]
        }
      ]
    },
    {
      "cell_type": "code",
      "source": [],
      "metadata": {
        "id": "BwtKx58hAq5v"
      },
      "execution_count": null,
      "outputs": []
    }
  ]
}